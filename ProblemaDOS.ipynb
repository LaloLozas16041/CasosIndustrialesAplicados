{
 "cells": [
  {
   "cell_type": "markdown",
   "metadata": {},
   "source": [
    "# 01.- Carga de Datos"
   ]
  },
  {
   "cell_type": "code",
   "execution_count": 14,
   "metadata": {},
   "outputs": [],
   "source": [
    "import pandas as pd\n",
    "import numpy as np\n",
    "\n",
    "# Configuramos la semilla para la reproducibilidad\n",
    "np.random.seed(42)\n",
    "\n",
    "# Generamos el conjunto de datos ficticio\n",
    "df_supply_chain = pd.DataFrame({\n",
    "    'store_id': np.random.choice(range(1, 101), size=10000),\n",
    "    'product_id': np.random.choice(range(1000, 5000), size=10000),\n",
    "    'day_of_week': np.random.choice(['Monday', 'Tuesday', 'Wednesday', 'Thursday', 'Friday', 'Saturday', 'Sunday'], size=10000),\n",
    "    'season': np.random.choice(['Spring', 'Summer', 'Fall', 'Winter'], size=10000),\n",
    "    'quantity_sold': np.random.poisson(lam=50, size=10000),\n",
    "    'stock_before_order': np.random.randint(0, 200, size=10000),\n",
    "    'stock_after_order': np.random.randint(0, 200, size=10000),\n",
    "    'order_amount': np.random.randint(1, 100, size=10000),\n",
    "    'lead_time_days': np.random.randint(1, 15, size=10000),\n",
    "    'supplier_id': np.random.choice(range(500, 1000), size=10000),\n",
    "    'delivery_time_expected': np.random.randint(1, 15, size=10000),\n",
    "    'delivery_time_actual': np.random.randint(1, 15, size=10000),\n",
    "    'transport_mode': np.random.choice(['Ship', 'Truck', 'Air', 'Rail'], size=10000),\n",
    "    'order_cost': np.random.uniform(100, 1000, size=10000),\n",
    "    'sell_price_per_unit': np.random.uniform(10, 100, size=10000),\n",
    "    'discount_offered': np.random.uniform(0, 0.3, size=10000)\n",
    "})\n",
    "\n",
    "# Procederemos con el Análisis Exploratorio de Datos (EDA) a continuación.\n"
   ]
  },
  {
   "cell_type": "markdown",
   "metadata": {},
   "source": [
    "# 02.- "
   ]
  },
  {
   "cell_type": "code",
   "execution_count": null,
   "metadata": {},
   "outputs": [],
   "source": []
  }
 ],
 "metadata": {
  "kernelspec": {
   "display_name": "Python 3",
   "language": "python",
   "name": "python3"
  },
  "language_info": {
   "codemirror_mode": {
    "name": "ipython",
    "version": 3
   },
   "file_extension": ".py",
   "mimetype": "text/x-python",
   "name": "python",
   "nbconvert_exporter": "python",
   "pygments_lexer": "ipython3",
   "version": "3.9.13"
  }
 },
 "nbformat": 4,
 "nbformat_minor": 2
}
